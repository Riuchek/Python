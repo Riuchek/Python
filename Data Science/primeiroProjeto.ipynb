{
  "nbformat": 4,
  "nbformat_minor": 0,
  "metadata": {
    "colab": {
      "provenance": []
    },
    "kernelspec": {
      "name": "python3",
      "display_name": "Python 3"
    },
    "language_info": {
      "name": "python"
    }
  },
  "cells": [
    {
      "cell_type": "code",
      "execution_count": null,
      "metadata": {
        "id": "tQX4rk3-WH8I"
      },
      "outputs": [],
      "source": [
        "#features - QUANTO MAIS MELHOR!?\n",
        "#pelo longo\n",
        "#perna curta\n",
        "#faz auau?\n",
        "#Porcos\n",
        "P1 = [0,1,0]\n",
        "P2 = [0,1,1]\n",
        "P3 = [1,1,0]\n",
        "#Cachorros\n",
        "C1 = [0,1,1]\n",
        "C2 = [1,0,1]\n",
        "C3 = [1,1,1]\n",
        "# 1-> porco, 0-> cachorro\n",
        "#nome das variaveis de treino - COLOCA TREINO NO NOME PFV JOÃO DO FUTURO.\n",
        "treino_animais = [P1,P2,P3,C1,C2,C3]\n",
        "treino_classes = [1,1,1,0,0,0] #labels / etiqueta"
      ]
    },
    {
      "cell_type": "code",
      "source": [
        "#biblioteca para machine learning   \n",
        "from sklearn.svm import LinearSVC\n",
        "#Não entendi muito bem na teoria mas a pratica é, colocamos no 2 arrays dentro desse model para ser analisado pela maquina\n",
        "model = LinearSVC()\n",
        "#Passagem (fit = encaixar ou colocar?) as 2 arrays com os dados colocados \n",
        "model.fit(treino_animais,treino_classes)"
      ],
      "metadata": {
        "colab": {
          "base_uri": "https://localhost:8080/",
          "height": 75
        },
        "id": "tF6A-xBciPYb",
        "outputId": "811f7958-6688-4505-b237-3b545b8d474d"
      },
      "execution_count": null,
      "outputs": [
        {
          "output_type": "execute_result",
          "data": {
            "text/plain": [
              "LinearSVC()"
            ],
            "text/html": [
              "<style>#sk-container-id-1 {color: black;background-color: white;}#sk-container-id-1 pre{padding: 0;}#sk-container-id-1 div.sk-toggleable {background-color: white;}#sk-container-id-1 label.sk-toggleable__label {cursor: pointer;display: block;width: 100%;margin-bottom: 0;padding: 0.3em;box-sizing: border-box;text-align: center;}#sk-container-id-1 label.sk-toggleable__label-arrow:before {content: \"▸\";float: left;margin-right: 0.25em;color: #696969;}#sk-container-id-1 label.sk-toggleable__label-arrow:hover:before {color: black;}#sk-container-id-1 div.sk-estimator:hover label.sk-toggleable__label-arrow:before {color: black;}#sk-container-id-1 div.sk-toggleable__content {max-height: 0;max-width: 0;overflow: hidden;text-align: left;background-color: #f0f8ff;}#sk-container-id-1 div.sk-toggleable__content pre {margin: 0.2em;color: black;border-radius: 0.25em;background-color: #f0f8ff;}#sk-container-id-1 input.sk-toggleable__control:checked~div.sk-toggleable__content {max-height: 200px;max-width: 100%;overflow: auto;}#sk-container-id-1 input.sk-toggleable__control:checked~label.sk-toggleable__label-arrow:before {content: \"▾\";}#sk-container-id-1 div.sk-estimator input.sk-toggleable__control:checked~label.sk-toggleable__label {background-color: #d4ebff;}#sk-container-id-1 div.sk-label input.sk-toggleable__control:checked~label.sk-toggleable__label {background-color: #d4ebff;}#sk-container-id-1 input.sk-hidden--visually {border: 0;clip: rect(1px 1px 1px 1px);clip: rect(1px, 1px, 1px, 1px);height: 1px;margin: -1px;overflow: hidden;padding: 0;position: absolute;width: 1px;}#sk-container-id-1 div.sk-estimator {font-family: monospace;background-color: #f0f8ff;border: 1px dotted black;border-radius: 0.25em;box-sizing: border-box;margin-bottom: 0.5em;}#sk-container-id-1 div.sk-estimator:hover {background-color: #d4ebff;}#sk-container-id-1 div.sk-parallel-item::after {content: \"\";width: 100%;border-bottom: 1px solid gray;flex-grow: 1;}#sk-container-id-1 div.sk-label:hover label.sk-toggleable__label {background-color: #d4ebff;}#sk-container-id-1 div.sk-serial::before {content: \"\";position: absolute;border-left: 1px solid gray;box-sizing: border-box;top: 0;bottom: 0;left: 50%;z-index: 0;}#sk-container-id-1 div.sk-serial {display: flex;flex-direction: column;align-items: center;background-color: white;padding-right: 0.2em;padding-left: 0.2em;position: relative;}#sk-container-id-1 div.sk-item {position: relative;z-index: 1;}#sk-container-id-1 div.sk-parallel {display: flex;align-items: stretch;justify-content: center;background-color: white;position: relative;}#sk-container-id-1 div.sk-item::before, #sk-container-id-1 div.sk-parallel-item::before {content: \"\";position: absolute;border-left: 1px solid gray;box-sizing: border-box;top: 0;bottom: 0;left: 50%;z-index: -1;}#sk-container-id-1 div.sk-parallel-item {display: flex;flex-direction: column;z-index: 1;position: relative;background-color: white;}#sk-container-id-1 div.sk-parallel-item:first-child::after {align-self: flex-end;width: 50%;}#sk-container-id-1 div.sk-parallel-item:last-child::after {align-self: flex-start;width: 50%;}#sk-container-id-1 div.sk-parallel-item:only-child::after {width: 0;}#sk-container-id-1 div.sk-dashed-wrapped {border: 1px dashed gray;margin: 0 0.4em 0.5em 0.4em;box-sizing: border-box;padding-bottom: 0.4em;background-color: white;}#sk-container-id-1 div.sk-label label {font-family: monospace;font-weight: bold;display: inline-block;line-height: 1.2em;}#sk-container-id-1 div.sk-label-container {text-align: center;}#sk-container-id-1 div.sk-container {/* jupyter's `normalize.less` sets `[hidden] { display: none; }` but bootstrap.min.css set `[hidden] { display: none !important; }` so we also need the `!important` here to be able to override the default hidden behavior on the sphinx rendered scikit-learn.org. See: https://github.com/scikit-learn/scikit-learn/issues/21755 */display: inline-block !important;position: relative;}#sk-container-id-1 div.sk-text-repr-fallback {display: none;}</style><div id=\"sk-container-id-1\" class=\"sk-top-container\"><div class=\"sk-text-repr-fallback\"><pre>LinearSVC()</pre><b>In a Jupyter environment, please rerun this cell to show the HTML representation or trust the notebook. <br />On GitHub, the HTML representation is unable to render, please try loading this page with nbviewer.org.</b></div><div class=\"sk-container\" hidden><div class=\"sk-item\"><div class=\"sk-estimator sk-toggleable\"><input class=\"sk-toggleable__control sk-hidden--visually\" id=\"sk-estimator-id-1\" type=\"checkbox\" checked><label for=\"sk-estimator-id-1\" class=\"sk-toggleable__label sk-toggleable__label-arrow\">LinearSVC</label><div class=\"sk-toggleable__content\"><pre>LinearSVC()</pre></div></div></div></div></div>"
            ]
          },
          "metadata": {},
          "execution_count": 2
        }
      ]
    },
    {
      "cell_type": "code",
      "source": [
        "#Teste para ver se a maquina entendeu qual animal era\n",
        "animal_misterioso = [0,1,0]\n",
        "#Predict => colocar uma array *ou 2 parametros* para a maquina fazer uma previsão (predict) de qual animal era em base nos dados que colocamos no 1 bloco.\n",
        "model.predict([animal_misterioso])"
      ],
      "metadata": {
        "colab": {
          "base_uri": "https://localhost:8080/"
        },
        "id": "qRYLC-T0iq3B",
        "outputId": "88f6b464-98cb-4445-a922-644e5777fec2"
      },
      "execution_count": null,
      "outputs": [
        {
          "output_type": "execute_result",
          "data": {
            "text/plain": [
              "array([1])"
            ]
          },
          "metadata": {},
          "execution_count": 3
        }
      ]
    },
    {
      "cell_type": "code",
      "source": [
        "#Teste misterioso\n",
        "misterio1  = [1,1,1]\n",
        "misterio2  = [1,1,0]\n",
        "misterio3  = [0,1,1]\n",
        "#colocamos numa array para o predict\n",
        "teste_misterio = [misterio1,misterio2, misterio3]\n",
        "#predict\n",
        "PR = model.predict(teste_misterio)"
      ],
      "metadata": {
        "id": "0_Gq-8ebi-Nl"
      },
      "execution_count": null,
      "outputs": []
    },
    {
      "cell_type": "code",
      "source": [
        "testes_classes = [0,1,1]\n"
      ],
      "metadata": {
        "id": "DhAtTySKjW6g"
      },
      "execution_count": null,
      "outputs": []
    },
    {
      "cell_type": "code",
      "source": [
        "#FORMA BRUTA, SEM IMPORT DE BIBLIOTECA === CRINGE DMS\n",
        "corretos = (PR == testes_classes).sum()\n",
        "total = len(teste_misterio)\n",
        "TC = corretos/total\n",
        "print(\"A taxa de acerto é %.2f\" % (TC*100))"
      ],
      "metadata": {
        "colab": {
          "base_uri": "https://localhost:8080/"
        },
        "id": "pafNXQHCkndV",
        "outputId": "3273b2de-58ed-40c3-fba5-72f212a6c7c0"
      },
      "execution_count": null,
      "outputs": [
        {
          "output_type": "stream",
          "name": "stdout",
          "text": [
            "A taxa de acerto é 66.67\n"
          ]
        }
      ]
    },
    {
      "cell_type": "code",
      "source": [
        "#FORMA GIGACHAD DE FAZER, IMPORTANTO A MELHOR BIBLIOTECA DE TODAS :)\n",
        "#Importar da biblioteca  o metodo de acerto da maquina\n",
        "from sklearn.metrics import accuracy_score\n",
        "TC = accuracy_score(testes_classes,PR)\n",
        "print(\"TAXA DE ACERTO %.2f\" % ( TC * 100))"
      ],
      "metadata": {
        "colab": {
          "base_uri": "https://localhost:8080/"
        },
        "id": "gyWCnu-pkskX",
        "outputId": "b7b9e261-9177-4fe5-9870-a6e7f43e5f74"
      },
      "execution_count": null,
      "outputs": [
        {
          "output_type": "stream",
          "name": "stdout",
          "text": [
            "TAXA DE ACERTO 66.67\n"
          ]
        }
      ]
    }
  ]
}