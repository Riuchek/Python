{
  "nbformat": 4,
  "nbformat_minor": 0,
  "metadata": {
    "colab": {
      "provenance": [],
      "mount_file_id": "1CWIU8IMV64o283nVZ7u1rSQBceF5HAiY",
      "authorship_tag": "ABX9TyOjuAUW+boZmq0DzoyN/sPa",
      "include_colab_link": true
    },
    "kernelspec": {
      "name": "python3",
      "display_name": "Python 3"
    },
    "language_info": {
      "name": "python"
    }
  },
  "cells": [
    {
      "cell_type": "markdown",
      "metadata": {
        "id": "view-in-github",
        "colab_type": "text"
      },
      "source": [
        "<a href=\"https://colab.research.google.com/github/Riuchek/Python/blob/main/_Darlan.ipynb\" target=\"_parent\"><img src=\"https://colab.research.google.com/assets/colab-badge.svg\" alt=\"Open In Colab\"/></a>"
      ]
    },
    {
      "cell_type": "markdown",
      "source": [
        "Parte 1 Sociedade do Anel"
      ],
      "metadata": {
        "id": "468o7JmzK3nD"
      }
    },
    {
      "cell_type": "markdown",
      "source": [
        "Bem vindos"
      ],
      "metadata": {
        "id": "3sMQP94PBaW3"
      }
    },
    {
      "cell_type": "markdown",
      "source": [
        "Data Science X Machine Learning X Deep Learning"
      ],
      "metadata": {
        "id": "FXVUdcBEQcn4"
      }
    },
    {
      "cell_type": "markdown",
      "source": [
        "Por que Python?"
      ],
      "metadata": {
        "id": "mA9yp9rJBmvQ"
      }
    },
    {
      "cell_type": "markdown",
      "source": [
        "Passos a se Seguir"
      ],
      "metadata": {
        "id": "ihCfvt7MBjUa"
      }
    },
    {
      "cell_type": "markdown",
      "source": [
        "Primeiro passo - Seleção dos Dados"
      ],
      "metadata": {
        "id": "gHgkVt-xCUIF"
      }
    },
    {
      "cell_type": "markdown",
      "source": [
        "Segundo passo - Import das bibliotecas necessarias"
      ],
      "metadata": {
        "id": "DdKAkCT6CXZw"
      }
    },
    {
      "cell_type": "code",
      "source": [
        "import pandas as pd\n",
        "import numpy as np\n",
        "import matplotlib.pyplot as plt\n",
        "import seaborn as sns"
      ],
      "metadata": {
        "id": "loljIpXtBb_s"
      },
      "execution_count": null,
      "outputs": []
    },
    {
      "cell_type": "markdown",
      "source": [
        "Terceiro passo - Verificação dos dados"
      ],
      "metadata": {
        "id": "fJYpQJUNCbdS"
      }
    },
    {
      "cell_type": "markdown",
      "source": [
        "Quarto Passo - Limpeza dos dados"
      ],
      "metadata": {
        "id": "bz2p3TKWCoYB"
      }
    },
    {
      "cell_type": "markdown",
      "source": [
        "Quinto passo - Estudo dos Dados"
      ],
      "metadata": {
        "id": "aBrQzJ2aCr1P"
      }
    },
    {
      "cell_type": "markdown",
      "source": [
        "Sexto passo - Analise dos dados e Tomada de decisão"
      ],
      "metadata": {
        "id": "7BYftl6KCuh7"
      }
    },
    {
      "cell_type": "markdown",
      "source": [
        "Parte 2 As duas torres"
      ],
      "metadata": {
        "id": "Efr4YZKIJ2CB"
      }
    },
    {
      "cell_type": "markdown",
      "source": [
        "Agora vamos trabalhar com alguns filtros"
      ],
      "metadata": {
        "id": "GgQE5z0QMcg8"
      }
    },
    {
      "cell_type": "markdown",
      "source": [
        "Uso de filtros"
      ],
      "metadata": {
        "id": "R2Ymn4MTMdTI"
      }
    },
    {
      "cell_type": "markdown",
      "source": [
        "Analise dos dados com filtro e tomada final de decisão"
      ],
      "metadata": {
        "id": "cepFRGErMeAb"
      }
    },
    {
      "cell_type": "markdown",
      "source": [
        "Parte 3 o Retorno do Rei"
      ],
      "metadata": {
        "id": "4oL05cJyLBgG"
      }
    },
    {
      "cell_type": "markdown",
      "source": [
        "Vamos para um dataset mais real, onde precisamos fazer diversos filtros e limpezas de dados"
      ],
      "metadata": {
        "id": "SK5K2W-HMeww"
      }
    }
  ]
}